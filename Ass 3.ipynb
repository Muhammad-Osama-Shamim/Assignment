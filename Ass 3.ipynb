{
 "cells": [
  {
   "cell_type": "markdown",
   "id": "0b5adf3a-fcd1-46e4-bca3-07484fefb287",
   "metadata": {},
   "source": [
    "### 1.\tCheck Discount Eligibility\n",
    "Write a program to check if a customer is eligible for a discount. If the total purchase is more than $100, apply a 10% discount and display the final price. Otherwise, display the total price as it is."
   ]
  },
  {
   "cell_type": "code",
   "execution_count": 14,
   "id": "a6d83b2f-51e6-4071-af36-5201312daf93",
   "metadata": {},
   "outputs": [
    {
     "name": "stdin",
     "output_type": "stream",
     "text": [
      "Enter the total purchase amount: $ 200\n"
     ]
    },
    {
     "name": "stdout",
     "output_type": "stream",
     "text": [
      "Discount applied 20.0\n",
      "Eligible for a discount! The final price after a 10% discount is: $180.00\n"
     ]
    }
   ],
   "source": [
    "total_purchase = float(input(\"Enter the total purchase amount: $\"))\n",
    "if total_purchase > 100:\n",
    "    discount = 0.10 * total_purchase\n",
    "    final_price = total_purchase - discount\n",
    "    print(f'Discount applied {discount}')`\n",
    "    print(f\"Eligible for a discount! The final price after a 10% discount is: ${final_price:.2f}\")\n",
    "else:\n",
    "    print(f\"Total purchase is less than $100. The total price is: ${total_purchase:.2f}\")"
   ]
  },
  {
   "cell_type": "markdown",
   "id": "d53d0240-d3c0-4cd0-a746-004d7457b765",
   "metadata": {},
   "source": [
    "### 2.\tCalculate Bulk Discount\n",
    "If a customer buys more than 5 items, apply a 15% discount on the total price. Otherwise, no discount is applied. Display the total price.\n"
   ]
  },
  {
   "cell_type": "code",
   "execution_count": 20,
   "id": "375d0b4f-7961-4c11-8012-7ac3e160805f",
   "metadata": {},
   "outputs": [
    {
     "name": "stdin",
     "output_type": "stream",
     "text": [
      "Enter the number of items purchased:  3\n",
      "Enter the total price:  33\n"
     ]
    },
    {
     "name": "stdout",
     "output_type": "stream",
     "text": [
      "The total price is: $33.00\n"
     ]
    }
   ],
   "source": [
    "num_items = int(input(\"Enter the number of items purchased: \"))\n",
    "total_price = float(input(\"Enter the total price: \"))\n",
    "discount = total_price * 0.15\n",
    "Discount_price = total_price - discount\n",
    "if num_items > 5:\n",
    "    total_price *= 0.85  \n",
    "    print(f'discount applied {discount}')\n",
    "    print(f\"The total price after 15% discount is: ${Discount_price:.2f}\")\n",
    "else:\n",
    "    print((f\"The total price is: ${total_price:.2f}\"))\n"
   ]
  },
  {
   "cell_type": "markdown",
   "id": "2edf437d-5ccf-4287-aa58-c43e00367078",
   "metadata": {},
   "source": [
    "### 3.\tMembership Discount\n",
    "Check if the customer is a member (is_member = True). Members get a 20% discount; non-members get a 5% discount. Calculate and print the discounted price.\n"
   ]
  },
  {
   "cell_type": "code",
   "execution_count": 5,
   "id": "70e070a5-0212-44a8-9bec-0fca133dcf5b",
   "metadata": {},
   "outputs": [
    {
     "name": "stdin",
     "output_type": "stream",
     "text": [
      "Enter the original price of the item:  333\n",
      "Enter Your Name:  sajdks\n"
     ]
    },
    {
     "name": "stdout",
     "output_type": "stream",
     "text": [
      "Discount applied: 16.650000000000002\n",
      "Your bill after discount applied: 316.35\n"
     ]
    }
   ],
   "source": [
    "members = ['wajahat', 'osama']\n",
    "price = float(input(\"Enter the original price of the item: \"))\n",
    "customer_name = input(\"Enter Your Name: \").lower()\n",
    "if customer_name in members:\n",
    "    discount = price * 0.20\n",
    "    discount_price = price - discount\n",
    "    print(f'Discount applied: {discount}')\n",
    "    print(f'Your bill after discount applied: {discount_price:2f}')\n",
    "else:\n",
    "    discount = price * 0.05\n",
    "    discount_price = price - discount\n",
    "    print(f'Discount applied: {discount}')\n",
    "    print(f'Your bill after discount applied: {discount_price:.2f}')"
   ]
  },
  {
   "cell_type": "markdown",
   "id": "d4ef68ab-f5d4-4e63-a6be-ad10c2c8797c",
   "metadata": {},
   "source": [
    "### 4.\tSeasonal Sale\n",
    "If today is a holiday (is_holiday = True), apply a 25% discount; otherwise, apply a 10% discount. Calculate the price after discount.\n"
   ]
  },
  {
   "cell_type": "code",
   "execution_count": 8,
   "id": "e56f0081-7192-4e25-903d-40221d078693",
   "metadata": {},
   "outputs": [
    {
     "name": "stdin",
     "output_type": "stream",
     "text": [
      "Enter the original price of the item:  10000\n",
      "Is today a holiday? (yes/no):  yes\n"
     ]
    },
    {
     "name": "stdout",
     "output_type": "stream",
     "text": [
      "Holiday discount: 2500.0\n",
      "Your total billed after discount applied: 7500.0\n"
     ]
    }
   ],
   "source": [
    "price = float(input(\"Enter the original price of the item: \"))\n",
    "today_is_holiday = input(\"Is today a holiday? (yes/no): \").strip().lower() == \"yes\"\n",
    "\n",
    "if today_is_holiday:\n",
    "    discount = price * 0.25\n",
    "    holiday_discount = price - discount\n",
    "    print(f\"Holiday discount: {discount}\")\n",
    "    print(f\"Your total billed after discount applied: {holiday_discount}\")\n",
    "else:\n",
    "    discount = price * 0.10\n",
    "    holiday_discount = price - discount\n",
    "    print(f\"Discount applied: {discount:.2f}\")\n",
    "    print(f\"Your total billed after discount applied: {holiday_discount}\")"
   ]
  },
  {
   "cell_type": "markdown",
   "id": "568799ff-bb1a-47b9-ab3a-f315e964dbcb",
   "metadata": {},
   "source": [
    "### 5.\tBuy-One-Get-One-Free\n",
    "If a customer buys an even number of items, they get half of them for free. Otherwise, they pay for all. Calculate the number of items the customer has to pay for.\n"
   ]
  },
  {
   "cell_type": "code",
   "execution_count": 23,
   "id": "33b4da24-c5f9-44c7-9b0c-456857c4f09a",
   "metadata": {},
   "outputs": [
    {
     "name": "stdin",
     "output_type": "stream",
     "text": [
      "Enter the total number of items:  2\n",
      "enter your total billed amount:  344\n"
     ]
    },
    {
     "name": "stdout",
     "output_type": "stream",
     "text": [
      "Your total amount is: 172.00\n"
     ]
    }
   ],
   "source": [
    "total_items = int(input(\"Enter the total number of items: \"))\n",
    "price = float(input(\"enter your total billed amount: \"))\n",
    "if total_items % 2 == 0:\n",
    "    total_bill = price / 2\n",
    "    print(f'Your total amount is: {total_bill:.2f}')\n",
    "else:\n",
    "    print(f\"Your total billed is {price}\")"
   ]
  },
  {
   "cell_type": "markdown",
   "id": "1188325a-9b3a-43e4-9720-d1d9bec52d30",
   "metadata": {},
   "source": [
    "### 6.\tSales Tax\n",
    "If the price of an item is greater than $500, apply a luxury tax of 15%. Otherwise, apply a standard tax of 8%. Display the total price after tax.\n"
   ]
  },
  {
   "cell_type": "code",
   "execution_count": 16,
   "id": "d268313a-e8a1-4b9a-8ff2-0859eb86c069",
   "metadata": {},
   "outputs": [
    {
     "name": "stdin",
     "output_type": "stream",
     "text": [
      "enter your total price:$ 5\n"
     ]
    },
    {
     "name": "stdout",
     "output_type": "stream",
     "text": [
      "Tax: $0.4\n",
      "Your payment after tax applied: $5.4\n"
     ]
    }
   ],
   "source": [
    "Price = float(input(\"enter your total price:$\"))\n",
    "if Price > 500:\n",
    "    luxury_tax = Price * 0.15\n",
    "    Tax_amount = Price + luxury_tax\n",
    "    print(f'Tax: ${luxury_tax}')\n",
    "    print(f\"Your payment after tax applied: ${Tax_amount}\")\n",
    "else:\n",
    "    standard_tax = Price * 0.08\n",
    "    Tax_amount = Price + standard_tax\n",
    "    print(f'Tax: ${standard_tax}')\n",
    "    print(f\"Your payment after tax applied: ${Tax_amount}\")"
   ]
  },
  {
   "cell_type": "markdown",
   "id": "f1f991fc-d970-4048-8900-c3e0e41dd587",
   "metadata": {},
   "source": [
    "## 7.\tIncome Tax\n",
    "If a person's annual income is above $50,000, they pay 20% tax. Otherwise, they pay 10%. Calculate and display the tax amount.\n"
   ]
  },
  {
   "cell_type": "code",
   "execution_count": 24,
   "id": "1ce1e5d5-c8c1-4d83-8ab7-c638386c95c0",
   "metadata": {},
   "outputs": [
    {
     "name": "stdin",
     "output_type": "stream",
     "text": [
      "enter your total income:$ 100000\n"
     ]
    },
    {
     "name": "stdout",
     "output_type": "stream",
     "text": [
      "Tax: $20000.00\n",
      "Your payment after tax applied: $120000.00\n"
     ]
    }
   ],
   "source": [
    "income = float(input(\"enter your total income:$\"))\n",
    "if income > 50000:\n",
    "    tax = income* 0.20\n",
    "    Tax_amount = income + tax\n",
    "    print(f'Tax: ${tax:.2f}')\n",
    "    print(f\"Your payment after tax applied: ${Tax_amount:.2f}\")\n",
    "else:\n",
    "    tax = income * 0.10\n",
    "    Tax_amount = income + tax\n",
    "    print(f'Tax: ${tax:.2f}')\n",
    "    print(f\"Your payment after tax applied: ${Tax_amount:.2f}\")"
   ]
  },
  {
   "cell_type": "markdown",
   "id": "51d6f900-528e-4646-9289-4686dee73c2c",
   "metadata": {},
   "source": [
    "6.\tTax Bracket\n",
    "Write a program to categorize a person into tax brackets:\n",
    "\tIncome < $30,000: \"Low Tax\"\n",
    "\t$30,000 ≤ Income < $100,000: \"Medium Tax\"\n",
    "\tIncome ≥ $100,000: \"High Tax\"\n"
   ]
  },
  {
   "cell_type": "code",
   "execution_count": 22,
   "id": "5a51042d-b3ef-45ba-b090-11f6f26dc6d0",
   "metadata": {},
   "outputs": [
    {
     "name": "stdin",
     "output_type": "stream",
     "text": [
      "Enter your total income: $ 2333333\n"
     ]
    },
    {
     "name": "stdout",
     "output_type": "stream",
     "text": [
      "Your tax level is High\n"
     ]
    }
   ],
   "source": [
    "income = float(input(\"Enter your total income: $\"))\n",
    "if income < 30000:\n",
    "    print(\"Your tax level is Low\")\n",
    "elif 30000 <= income < 100000:\n",
    "    print(\"Your tax level is Medium\")\n",
    "else: \n",
    "    income > 100000\n",
    "    print(\"Your tax level is High\")"
   ]
  },
  {
   "cell_type": "markdown",
   "id": "8aa59b1a-0573-4a79-b9bf-5ee0804288cc",
   "metadata": {},
   "source": [
    "### 9.\tVAT Calculation\n",
    "If the item is marked as essential (is_essential = True), apply a VAT of 5%. Otherwise, apply a VAT of 12%. Display the final price.\n"
   ]
  },
  {
   "cell_type": "code",
   "execution_count": 20,
   "id": "ac025d4f-1f93-49d9-bff3-bf0d9db12ed9",
   "metadata": {},
   "outputs": [
    {
     "name": "stdin",
     "output_type": "stream",
     "text": [
      "Enter the original price of the item:  1000\n",
      "Is the item essential? (yes/no):  yes\n"
     ]
    },
    {
     "name": "stdout",
     "output_type": "stream",
     "text": [
      "The final price is: 1050.00\n"
     ]
    }
   ],
   "source": [
    "original_price = float(input(\"Enter the original price of the item: \"))\n",
    "is_essential = input(\"Is the item essential? (yes/no): \").strip().lower() == \"yes\"\n",
    "if is_essential:\n",
    "    vat_rate = 0.05\n",
    "    vat_amount = original_price * vat_rate\n",
    "    final_price = original_price + vat_amount\n",
    "    print(f\"The final price is: {final_price:.2f}\")\n",
    "else:\n",
    "    vat_rate = 0.12\n",
    "    vat_amount = original_price * vat_rate\n",
    "    final_price = original_price + vat_amount\n",
    "    print(f\"The final price is: {final_price:.2f}\")"
   ]
  },
  {
   "cell_type": "markdown",
   "id": "6359bd9d-f7a3-4f06-8d8c-249f7f26feaa",
   "metadata": {},
   "source": [
    "### 10.\tTax-Free Day\n",
    "If today is a tax-free day (tax_free = True), display the original price. Otherwise, add a 7% tax.\n"
   ]
  },
  {
   "cell_type": "code",
   "execution_count": 16,
   "id": "fd26b54b-f6f8-4d53-a325-8f2e09588f27",
   "metadata": {},
   "outputs": [
    {
     "name": "stdin",
     "output_type": "stream",
     "text": [
      "Enter the original price of the item:  10000\n",
      "Is today a tax free day? (yes/no):  no\n"
     ]
    },
    {
     "name": "stdout",
     "output_type": "stream",
     "text": [
      "Tax included: 700.0\n",
      "The final price is: 10700.0\n"
     ]
    }
   ],
   "source": [
    "price = float(input(\"Enter the original price of the item: \"))\n",
    "tax_free_day = input(\"Is today a tax free day? (yes/no): \").strip().lower() == \"yes\"\n",
    "if tax_free_day:\n",
    "    final_price = price\n",
    "    print(f\"The final price is: {final_price:.2f}\")\n",
    "else:\n",
    "    tax_rate = 0.07\n",
    "    tax_amount = price * tax_rate\n",
    "    final_price = price + tax_amount\n",
    "    print(f\"Tax included: {tax_amount:.1f}\")\n",
    "    print(f\"The final price is: {final_price:.1f}\")"
   ]
  },
  {
   "cell_type": "markdown",
   "id": "a3f79c02-b3a0-4d60-a81e-9fa47109f931",
   "metadata": {},
   "source": [
    "### 11.\tFree Shipping\n",
    "If the total purchase amount is more than $50, offer free shipping; otherwise, charge $5 for shipping. Display the total amount including shipping."
   ]
  },
  {
   "cell_type": "code",
   "execution_count": 35,
   "id": "b42ebb68-fbed-43de-977c-ffd07e2c7dc8",
   "metadata": {},
   "outputs": [
    {
     "name": "stdin",
     "output_type": "stream",
     "text": [
      "Enter the total purchase amount:  23\n"
     ]
    },
    {
     "name": "stdout",
     "output_type": "stream",
     "text": [
      "The total amount including shipping is: $28.0\n"
     ]
    }
   ],
   "source": [
    "total_purchase = float(input(\"Enter the total purchase amount: \"))\n",
    "if total_purchase > 50:\n",
    "    shipping_cost = 0\n",
    "else:\n",
    "    shipping_cost = 5\n",
    "total_amount = total_purchase + shipping_cost\n",
    "print(f\"The total amount including shipping is: ${total_amount:.1f}\")"
   ]
  },
  {
   "cell_type": "markdown",
   "id": "bbfefa87-fe1e-4221-807b-898dd961b42f",
   "metadata": {},
   "source": [
    "### 12.\tDiscount Code\n",
    "If a customer enters the correct discount code (DISCOUNT10), apply a 10% discount. Otherwise, charge the full amount.\n"
   ]
  },
  {
   "cell_type": "code",
   "execution_count": 54,
   "id": "96845124-c0de-4301-a1f8-0adce991bcc2",
   "metadata": {},
   "outputs": [
    {
     "name": "stdin",
     "output_type": "stream",
     "text": [
      "Enter the total purchase amount:  100\n",
      "Enter the discount code:  discount10\n"
     ]
    },
    {
     "name": "stdout",
     "output_type": "stream",
     "text": [
      "The total amount including shipping is: $90.0\n"
     ]
    }
   ],
   "source": [
    "total_purchase = float(input(\"Enter the total purchase amount: \"))\n",
    "discount_code = str(input(\"Enter the discount code: \")).upper().strip() == \"DISCOUNT10\"\n",
    "if discount_code:\n",
    "    discount = total_purchase * 0.10\n",
    "    total_amount = total_purchase - discount\n",
    "else:\n",
    "    total_amount = total_purchase\n",
    "print(f\"The total amount including shipping is: ${total_amount:.1f}\")\n"
   ]
  },
  {
   "cell_type": "markdown",
   "id": "74239474-81c5-4f17-ba58-9d02d4348400",
   "metadata": {},
   "source": [
    "### 13.\tTiered Discounts\n",
    "Apply discounts based on the total price:\n",
    "\t$0–$50: No discount.\n",
    "\t$50–$100: 10% discount.\n",
    "\tOver $100: 20% discount."
   ]
  },
  {
   "cell_type": "code",
   "execution_count": 78,
   "id": "a6405ff1-6775-4fdb-af5b-79ea096d105b",
   "metadata": {},
   "outputs": [
    {
     "name": "stdin",
     "output_type": "stream",
     "text": [
      "Enter the total price:  2\n"
     ]
    },
    {
     "name": "stdout",
     "output_type": "stream",
     "text": [
      "Original Price: $2.00\n",
      "Discount: $0.00\n",
      "Final Price: $2.00\n"
     ]
    }
   ],
   "source": [
    "total_price = float(input(\"Enter the total price: \"))\n",
    "if total_price <= 50:\n",
    "    discount_rate = 0\n",
    "    discount = total_price * discount_rate\n",
    "    final_price = total_price - discount\n",
    "elif total_price <= 100:\n",
    "    discount_rate = 0.10\n",
    "    discount = total_price * discount_rate\n",
    "    final_price = total_price - discount\n",
    "else:\n",
    "    discount_rate = 0.20\n",
    "    discount = total_price * discount_rate\n",
    "    final_price = total_price - discount\n",
    "\n",
    "print(f\"Original Price: ${total_price:.2f}\")\n",
    "print(f\"Discount: ${discount:.2f}\")\n",
    "print(f\"Final Price: ${final_price:.2f}\")"
   ]
  },
  {
   "cell_type": "markdown",
   "id": "65390a65-8482-4d2e-bd52-357bec0e6c51",
   "metadata": {},
   "source": [
    "### 14.\tMinimum Purchase Requirement\n",
    "If the total amount is less than $20, display a message: \"Minimum purchase of $20 is required.\" Otherwise, display the total amount."
   ]
  },
  {
   "cell_type": "code",
   "execution_count": 108,
   "id": "c3801da0-0ffb-40f6-b5c4-7620bc9e5b50",
   "metadata": {},
   "outputs": [
    {
     "name": "stdin",
     "output_type": "stream",
     "text": [
      "Enter the total price: $ 2\n"
     ]
    },
    {
     "name": "stdout",
     "output_type": "stream",
     "text": [
      "Minimum purchase of 20 required\n"
     ]
    }
   ],
   "source": [
    "total_price = float(input(\"Enter the total price: $\"))\n",
    "if total_price < 20:\n",
    "    print(\"Minimum purchase of 20 required\")\n",
    "else:\n",
    "    print(f\"your total amount is: ${total_price}\")"
   ]
  },
  {
   "cell_type": "markdown",
   "id": "328ece77-b968-451a-870e-56a5a454b909",
   "metadata": {},
   "source": [
    "### 15.\tLoyalty Points\n",
    "If a customer is a loyal member (is_loyal = True), they earn double loyalty points for their purchase. Otherwise, they earn standard points.\n"
   ]
  },
  {
   "cell_type": "code",
   "execution_count": 116,
   "id": "c5ac4a9d-6abc-4ffe-b1b7-c1e9108c96e4",
   "metadata": {},
   "outputs": [
    {
     "name": "stdin",
     "output_type": "stream",
     "text": [
      "Enter the purchase amount:  20\n",
      "Is the customer a loyal member? (yes/no):  yes\n"
     ]
    },
    {
     "name": "stdout",
     "output_type": "stream",
     "text": [
      "Loyalty points earned: 4000\n"
     ]
    }
   ],
   "source": [
    "purchase_amount = float(input(\"Enter the purchase amount: \"))\n",
    "is_loyal = input(\"Is the customer a loyal member? (yes/no): \").strip().lower() == \"yes\"\n",
    "loyality_point = 100\n",
    "if is_loyal:\n",
    "    loyalty_points = purchase_amount * loyality_point * 2 \n",
    "    print(f\"Loyalty points earned: {loyalty_points:.0f}\")\n",
    "else:\n",
    "    loyalty_points = purchase_amount * loyality_point\n",
    "    print(f\"Loyalty points earned: {loyalty_points:.0f}\")"
   ]
  },
  {
   "cell_type": "markdown",
   "id": "519a09ba-f7d5-4535-bea0-a2cd1674e348",
   "metadata": {},
   "source": [
    "### B-\tTravel and Tickets\n",
    "]\n",
    "16.\tTravel Discount\n",
    "If a person is traveling more than 500 miles, offer a 20% discount on ticket price. Otherwise, charge the full amount.\n"
   ]
  },
  {
   "cell_type": "code",
   "execution_count": 132,
   "id": "811619a8-6f1a-474a-b7ba-271c6151b1d1",
   "metadata": {},
   "outputs": [
    {
     "name": "stdin",
     "output_type": "stream",
     "text": [
      "Enter the distance traveled (in miles):  5000\n"
     ]
    },
    {
     "name": "stdout",
     "output_type": "stream",
     "text": [
      "The final ticket price is: $16.00\n"
     ]
    }
   ],
   "source": [
    "ticket_price = 20.00\n",
    "distance = float(input(\"Enter the distance traveled (in miles): \"))\n",
    "if distance > 500:\n",
    "    discount = ticket_price * 0.20\n",
    "    final_price = ticket_price - discount\n",
    "else:\n",
    "    final_price = ticket_price\n",
    "print(f\"The final ticket price is: ${final_price:.2f}\")"
   ]
  },
  {
   "cell_type": "markdown",
   "id": "0d3ddfc6-2a40-4b7a-bc90-1e0bf03033b8",
   "metadata": {},
   "source": [
    "### 17.\tChild or Senior Discount\n",
    "If a passenger is under 12 or over 60 years old, apply a 15% discount on the ticket price. Otherwise, charge the full price.\n"
   ]
  },
  {
   "cell_type": "code",
   "execution_count": 23,
   "id": "fc775442-b9fc-4bcc-ad0e-807ecbacc0ca",
   "metadata": {},
   "outputs": [
    {
     "name": "stdin",
     "output_type": "stream",
     "text": [
      "Enter your correct age:  14\n"
     ]
    },
    {
     "name": "stdout",
     "output_type": "stream",
     "text": [
      "Your ticket price:$200\n"
     ]
    }
   ],
   "source": [
    "ticket_price = 200\n",
    "age = float(input(\"Enter your correct age: \"))\n",
    "if age < 12 or age > 60:\n",
    "    discount = ticket_price * 0.15\n",
    "    discount_applied = ticket_price - discount\n",
    "    print(f\"Discount applied:${discount}\")\n",
    "    print(f\"Your ticket price: ${discount_applied}\")\n",
    "else:\n",
    "    print(f\"Your ticket price:${ticket_price}\")"
   ]
  },
  {
   "cell_type": "markdown",
   "id": "97e93564-51c7-4a5e-95a7-0ee483c067c5",
   "metadata": {},
   "source": [
    "### 18.\tTicket Type Pricing\n",
    "If the ticket is for a weekend (is_weekend = True), add a 10% surcharge. Otherwise, charge the standard price.\n",
    "\n"
   ]
  },
  {
   "cell_type": "code",
   "execution_count": 57,
   "id": "e94260e7-b605-47b5-96d2-4fda26f4f27e",
   "metadata": {},
   "outputs": [
    {
     "name": "stdin",
     "output_type": "stream",
     "text": [
      "Is today a weekend? (yes/no):  yes\n"
     ]
    },
    {
     "name": "stdout",
     "output_type": "stream",
     "text": [
      "weekend charge: $20.0\n",
      "Your total billed after charge applied: $220.0\n"
     ]
    }
   ],
   "source": [
    "today_is_weekend = input(\"Is today a weekend? (yes/no): \").strip().lower() == \"yes\"\n",
    "price = 200\n",
    "if today_is_weekend:\n",
    "    charge = price * 0.10\n",
    "    weekend_charge = price + charge\n",
    "    print(f\"weekend charge: ${charge}\")\n",
    "    print(f\"Your total billed after charge applied: ${weekend_charge}\")\n",
    "else:\n",
    "    print(f\"Your total billed after discount applied: ${price}\")"
   ]
  },
  {
   "cell_type": "markdown",
   "id": "d75144ae-ed1d-49fa-8a41-858127b3d645",
   "metadata": {},
   "source": [
    "### 19.\tBaggage Fee\n",
    "If the total baggage weight is over 20kg, charge $10 per extra kilogram. Otherwise, no extra fee."
   ]
  },
  {
   "cell_type": "code",
   "execution_count": 49,
   "id": "3ebd4f60-e497-4140-a81d-841e76a12f5f",
   "metadata": {},
   "outputs": [
    {
     "name": "stdin",
     "output_type": "stream",
     "text": [
      "Enter your total weight in kg:  23\n"
     ]
    },
    {
     "name": "stdout",
     "output_type": "stream",
     "text": [
      "Your extra weight is 3.0 kg.\n",
      "Your extra weight charges are: $30.0\n",
      "Your total charges are: $30.0\n"
     ]
    }
   ],
   "source": [
    "weight = float(input(\"Enter your total weight in kg: \"))\n",
    "weight_limit = 20\n",
    "extra_charge_per_kg = 10\n",
    "if weight > weight_limit:\n",
    "    extra_wght = weight - weight_limit\n",
    "    extra_chrge = extra_wght * extra_charge_per_kg\n",
    "    total_chrge = extra_chrge\n",
    "    print(f\"Your extra weight is {extra_wght} kg.\")\n",
    "    print(f\"Your extra weight charges are: ${extra_chrge}\")\n",
    "    print(f\"Your total charges are: ${total_chrge}\")\n",
    "else:\n",
    "    print(\"No extra charges, your weight is within the limit.\")"
   ]
  },
  {
   "cell_type": "markdown",
   "id": "a1e21fd8-bebb-4442-a230-73817411e321",
   "metadata": {},
   "source": [
    "### 20.\tEarly Bird Discount\n",
    "If a ticket is booked more than 30 days in advance, apply a 10% discount. Otherwise, charge the full price."
   ]
  },
  {
   "cell_type": "code",
   "execution_count": 111,
   "id": "6bb83b5a-aae4-446e-898a-f09e104174d3",
   "metadata": {},
   "outputs": [
    {
     "name": "stdin",
     "output_type": "stream",
     "text": [
      "Enter the booking date (YYYY-MM-DD):  2024-11-7\n",
      "Enter the ticket price:  3344\n"
     ]
    },
    {
     "name": "stdout",
     "output_type": "stream",
     "text": [
      "Your total price is: $3344.00\n"
     ]
    }
   ],
   "source": [
    "from datetime import datetime  \n",
    "booking_date = input(\"Enter the booking date (YYYY-MM-DD): \")\n",
    "ticket_price = float(input(\"Enter the ticket price: \"))\n",
    "booking_date = datetime.strptime(booking_date, \"%Y-%m-%d\")\n",
    "current_date = datetime.now()\n",
    "days_in_advance = (current_date - booking_date).days\n",
    "if days_in_advance > 30:\n",
    "    final_price = ticket_price * 0.90\n",
    "    print(f\"Your total price after discount is: ${final_price:.2f}\")\n",
    "else:\n",
    "    print(f\"Your total price is: ${ticket_price:.2f}\")"
   ]
  },
  {
   "cell_type": "markdown",
   "id": "386bc0ed-c04f-4d9c-9a00-925acd0522b0",
   "metadata": {},
   "source": [
    "### C-\tGrades and Performance\n",
    "\n",
    "21.\tPass or Fail\n",
    "If a student scores 40 or more, print \"Pass\". Otherwise, print \"Fail\".\n"
   ]
  },
  {
   "cell_type": "code",
   "execution_count": 4,
   "id": "ae93d805-138e-4656-9158-2edad2acc756",
   "metadata": {},
   "outputs": [
    {
     "name": "stdin",
     "output_type": "stream",
     "text": [
      "Enter the student's score:  233\n"
     ]
    },
    {
     "name": "stdout",
     "output_type": "stream",
     "text": [
      "Pass\n"
     ]
    }
   ],
   "source": [
    "score = float(input(\"Enter the student's score: \"))\n",
    "if score >= 40:\n",
    "    print(\"Pass\")\n",
    "else:\n",
    "    print(\"Fail\")"
   ]
  },
  {
   "cell_type": "markdown",
   "id": "65ad82b8-e747-4262-bdf1-34d1ab0f5925",
   "metadata": {},
   "source": [
    "### 22.\tGrade Assignment\n",
    "Based on a student's score, assign grades:\n",
    "\t90 and above: \"A\"\n",
    "\t75–89: \"B\"\n",
    "\t50–74: \"C\"\n",
    "\tBelow 50: \"F\""
   ]
  },
  {
   "cell_type": "code",
   "execution_count": 13,
   "id": "ba7d4d6b-beac-4cd3-9829-bfb0716f952b",
   "metadata": {},
   "outputs": [
    {
     "name": "stdin",
     "output_type": "stream",
     "text": [
      "Enter the student's score:  444\n"
     ]
    },
    {
     "name": "stdout",
     "output_type": "stream",
     "text": [
      "The student's grade is: A\n"
     ]
    }
   ],
   "source": [
    "score = int(input(\"Enter the student's score: \"))\n",
    "if score >= 90:\n",
    "    grade = \"A\"\n",
    "elif score >= 75:\n",
    "    grade = \"B\"\n",
    "elif score >= 50:\n",
    "    grade = \"C\"\n",
    "else:\n",
    "    grade = \"F\"\n",
    "print(f\"The student's grade is: {grade}\")\n"
   ]
  },
  {
   "cell_type": "markdown",
   "id": "b26947cf-5d50-4874-9cd2-7e52fbe123cd",
   "metadata": {},
   "source": [
    "### 23.\tBonus Marks\n",
    "If a student completes all assignments, add 5 bonus marks to their score. Otherwise, no bonus marks.\n"
   ]
  },
  {
   "cell_type": "code",
   "execution_count": 44,
   "id": "ed7b9493-8a70-433c-b67e-68ae83912ae0",
   "metadata": {},
   "outputs": [
    {
     "name": "stdin",
     "output_type": "stream",
     "text": [
      "Enter the student's score:  3434\n",
      "Completed all assignments? (yes/no):  no\n"
     ]
    },
    {
     "name": "stdout",
     "output_type": "stream",
     "text": [
      "The final score is: 3434.0\n"
     ]
    }
   ],
   "source": [
    "score = float(input(\"Enter the student's score: \"))\n",
    "assignments_completed = input(\"Completed all assignments? (yes/no): \").strip().lower()\n",
    "\n",
    "if assignments_completed == \"yes\":\n",
    "    bonus = 5\n",
    "    total = score + bonus\n",
    "else:\n",
    "    total = score\n",
    "\n",
    "print(f\"The final score is: {total}\")"
   ]
  },
  {
   "cell_type": "markdown",
   "id": "4ebab500-96aa-4397-90f8-8c877ffd061a",
   "metadata": {},
   "source": [
    "### 24.\tAttendance Eligibility\n",
    "If a student's attendance is 75% or more, they are eligible to take the exam. Otherwise, they are not.\n"
   ]
  },
  {
   "cell_type": "code",
   "execution_count": 49,
   "id": "ebbec311-754a-4e79-b392-f63108525b8c",
   "metadata": {},
   "outputs": [
    {
     "name": "stdin",
     "output_type": "stream",
     "text": [
      "Enter total attendence:  23\n"
     ]
    },
    {
     "name": "stdout",
     "output_type": "stream",
     "text": [
      "Sorry you're not eligible for exam\n"
     ]
    }
   ],
   "source": [
    "attendenc = int(input(\"Enter total attendence: \"))\n",
    "if attendenc > 75:\n",
    "    print(\"Your are eligible for exam\")\n",
    "else:\n",
    "    print(\"Sorry you're not eligible for exam\")\n"
   ]
  },
  {
   "cell_type": "markdown",
   "id": "0e4912e0-fd20-406f-adf8-5d75e95a6aef",
   "metadata": {},
   "source": [
    "### 25.\tScholarship Eligibility\n",
    "If a student's grade is \"A\" and their annual family income is below $30,000, they are eligible for a scholarship. Otherwise, they are not1b"
   ]
  },
  {
   "cell_type": "code",
   "execution_count": 79,
   "id": "6a87c60b-c71b-4d08-8302-8d70e28573cb",
   "metadata": {},
   "outputs": [
    {
     "name": "stdin",
     "output_type": "stream",
     "text": [
      "Enter your grade:  a\n",
      "Enter your total annual income:  343434\n"
     ]
    },
    {
     "name": "stdout",
     "output_type": "stream",
     "text": [
      "You are not eligible for the scholarship due to high income.\n"
     ]
    }
   ],
   "source": [
    "Grade = input(\"Enter your grade: \").lower().strip() == \"a\"\n",
    "if Grade:\n",
    "    Annual_income = float(input(\"Enter your total annual income: \"))\n",
    "    if Annual_income >= 30000:\n",
    "        print(\"You are not eligible for the scholarship due to high income.\")\n",
    "    else:\n",
    "        print(\"You are eligible for the scholarship.\")\n",
    "else:\n",
    "    print(\"You are not eligible for the scholarship because your grade is not 'A'.\")\n"
   ]
  },
  {
   "cell_type": "code",
   "execution_count": null,
   "id": "12ae9e00-2616-4089-a1f1-e022fb7edca0",
   "metadata": {},
   "outputs": [],
   "source": []
  }
 ],
 "metadata": {
  "kernelspec": {
   "display_name": "Python 3 (ipykernel)",
   "language": "python",
   "name": "python3"
  },
  "language_info": {
   "codemirror_mode": {
    "name": "ipython",
    "version": 3
   },
   "file_extension": ".py",
   "mimetype": "text/x-python",
   "name": "python",
   "nbconvert_exporter": "python",
   "pygments_lexer": "ipython3",
   "version": "3.12.7"
  }
 },
 "nbformat": 4,
 "nbformat_minor": 5
}
