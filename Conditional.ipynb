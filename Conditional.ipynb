{
 "cells": [
  {
   "cell_type": "markdown",
   "id": "83acdef7-734d-42f2-9f18-24c3a5ad0cd5",
   "metadata": {},
   "source": [
    "### Conditional Structures "
   ]
  },
  {
   "cell_type": "code",
   "execution_count": 10,
   "id": "0c4703af-a832-4d34-b96e-efb0befd4a79",
   "metadata": {},
   "outputs": [
    {
     "name": "stdin",
     "output_type": "stream",
     "text": [
      "Enter a number:  3\n"
     ]
    },
    {
     "name": "stdout",
     "output_type": "stream",
     "text": [
      "3 is an odd number.\n"
     ]
    }
   ],
   "source": [
    "number = int(input(\"Enter a number: \"))\n",
    "if number % 2 == 0:\n",
    "    print(f\"{number} is an even number.\")\n",
    "else:\n",
    "    print(f\"{number} is an odd number.\")"
   ]
  },
  {
   "cell_type": "code",
   "execution_count": 26,
   "id": "5bb4f093-3807-46a0-9a90-779fd0b1ddb2",
   "metadata": {},
   "outputs": [
    {
     "name": "stdin",
     "output_type": "stream",
     "text": [
      "Enter your age:  3\n"
     ]
    },
    {
     "name": "stdout",
     "output_type": "stream",
     "text": [
      "You are not eligible to vote yet.\n"
     ]
    }
   ],
   "source": [
    "age = int(input(\"Enter your age: \"))\n",
    "if age >= 18:\n",
    "    print(\"You are eligible to vote.\")\n",
    "else:\n",
    "    print(\"You are not eligible to vote yet.\")"
   ]
  },
  {
   "cell_type": "code",
   "execution_count": 44,
   "id": "c2e42a69-100e-4443-ad52-adbc73259504",
   "metadata": {},
   "outputs": [
    {
     "name": "stdin",
     "output_type": "stream",
     "text": [
      "Enter the first integer:  23\n",
      "Enter the second integer:  434\n"
     ]
    },
    {
     "name": "stdout",
     "output_type": "stream",
     "text": [
      "The largest number is 434.\n"
     ]
    }
   ],
   "source": [
    "num1 = int(input(\"Enter the first integer: \"))\n",
    "num2 = int(input(\"Enter the second integer: \"))\n",
    "if num1 > num2:\n",
    "    print(f\"The largest number is {num1}.\")\n",
    "elif num2 > num1:\n",
    "    print(f\"The largest number is {num2}.\")\n",
    "else:\n",
    "    print(\"Both numbers are equal.\")"
   ]
  },
  {
   "cell_type": "code",
   "execution_count": 50,
   "id": "a49ec2c9-52a2-4666-af69-69a43434575f",
   "metadata": {},
   "outputs": [
    {
     "name": "stdin",
     "output_type": "stream",
     "text": [
      "Enter a number:  0\n"
     ]
    },
    {
     "name": "stdout",
     "output_type": "stream",
     "text": [
      "Zero\n"
     ]
    }
   ],
   "source": [
    "number = float(input(\"Enter a number: \"))\n",
    "if number > 0:\n",
    "        print(\"Positive\")\n",
    "elif number < 0:\n",
    "        print(\"Negative\")\n",
    "else:\n",
    "        print(\"Zero\")"
   ]
  },
  {
   "cell_type": "code",
   "execution_count": 48,
   "id": "5f1caf70-dafe-45a4-84cc-87a4d7c00036",
   "metadata": {},
   "outputs": [
    {
     "name": "stdin",
     "output_type": "stream",
     "text": [
      "Enter your age:  3\n"
     ]
    },
    {
     "name": "stdout",
     "output_type": "stream",
     "text": [
      "Child\n"
     ]
    }
   ],
   "source": [
    "age = int(input(\"Enter your age: \"))\n",
    "\n",
    "if age <= 12:\n",
    "    print(\"Child\")\n",
    "elif 13 <= age <= 19:\n",
    "    print(\"Teenager\")\n",
    "elif 20 <= age <= 59:\n",
    "    print(\"Adult\")\n",
    "elif age >= 60:\n",
    "    print(\"Senior Citizen\")\n",
    "else:\n",
    "    print(\"Invalid age entered.\")"
   ]
  },
  {
   "cell_type": "code",
   "execution_count": 62,
   "id": "638be81b-7050-4ebf-b021-fb8bdbcb19d9",
   "metadata": {},
   "outputs": [
    {
     "name": "stdin",
     "output_type": "stream",
     "text": [
      "Enter the day number:  5\n"
     ]
    },
    {
     "name": "stdout",
     "output_type": "stream",
     "text": [
      "Thursday\n"
     ]
    }
   ],
   "source": [
    "day_number = int(input(\"Enter the day number: \"))\n",
    "if day_number == 1:\n",
    "    print(\"Sunday\")\n",
    "elif day_number == 2:\n",
    "    print(\"Monday\")\n",
    "elif day_number == 3:\n",
    "    print(\"Tuesday\")\n",
    "elif day_number == 4:\n",
    "    print(\"Wednesday\")\n",
    "elif day_number == 5:\n",
    "    print(\"Thursday\")\n",
    "elif day_number == 6:\n",
    "    print(\"Friday\")\n",
    "elif day_number == 7:\n",
    "    print(\"Saturday\")\n",
    "else:\n",
    "    print(\"Error: Please enter a number between 1 and 7.\")"
   ]
  },
  {
   "cell_type": "code",
   "execution_count": 54,
   "id": "dd63be17-a450-478d-baca-c5aff042363f",
   "metadata": {},
   "outputs": [
    {
     "name": "stdin",
     "output_type": "stream",
     "text": [
      "Enter your weight in kilograms:  34\n",
      "Enter your height in meters:  23\n"
     ]
    },
    {
     "name": "stdout",
     "output_type": "stream",
     "text": [
      "Your BMI is: 0.06\n",
      "Category: Underweight\n"
     ]
    }
   ],
   "source": [
    "# Prompting the user to input weight and height\n",
    "weight = float(input(\"Enter your weight in kilograms: \"))\n",
    "height = float(input(\"Enter your height in meters: \"))\n",
    "bmi = weight / (height * height)\n",
    "print(f\"Your BMI is: {bmi:.2f}\")\n",
    "if bmi < 18.5:\n",
    "    print(\"Category: Underweight\")\n",
    "elif 18.5 <= bmi < 24.9:\n",
    "    print(\"Category: Normal weight\")\n",
    "elif 25 <= bmi < 29.9:\n",
    "    print(\"Category: Overweight\")\n",
    "else:\n",
    "    print(\"Category: Obesity\")\n"
   ]
  },
  {
   "cell_type": "code",
   "execution_count": 86,
   "id": "5337c3c3-a7e9-4c1e-a7c8-2580ca9bd02b",
   "metadata": {},
   "outputs": [
    {
     "name": "stdin",
     "output_type": "stream",
     "text": [
      "Enter the marks obtained in subject 1:  23\n",
      "Enter the marks obtained in subject 2:  23\n",
      "Enter the marks obtained in subject 3:  23\n"
     ]
    },
    {
     "name": "stdout",
     "output_type": "stream",
     "text": [
      "The average marks are: 23.00\n",
      "The grade is: F\n"
     ]
    }
   ],
   "source": [
    "# Prompting the user to input marks for 3 subjects\n",
    "marks1 = float(input(\"Enter the marks obtained in subject 1: \"))\n",
    "marks2 = float(input(\"Enter the marks obtained in subject 2: \"))\n",
    "marks3 = float(input(\"Enter the marks obtained in subject 3: \"))\n",
    "average = (marks1 + marks2 + marks3) / 3\n",
    "\n",
    "print(f\"The average marks are: {average:.2f}\")\n",
    "if 90 <= average <= 100:\n",
    "    grade = \"A\"\n",
    "elif 80 <= average < 90:\n",
    "    grade = \"B\"\n",
    "elif 70 <= average < 80:\n",
    "    grade = \"C\"\n",
    "elif 60 <= average < 70:\n",
    "    grade = \"D\"\n",
    "elif 0 <= average < 60:\n",
    "    grade = \"F\"\n",
    "else:\n",
    "    grade = \"Invalid input\"\n",
    "\n",
    "print(f\"The grade is: {grade}\")\n"
   ]
  },
  {
   "cell_type": "code",
   "execution_count": 15,
   "id": "fc98dd2c-3ebc-48f0-9d46-bc74089d2b4b",
   "metadata": {},
   "outputs": [
    {
     "name": "stdin",
     "output_type": "stream",
     "text": [
      "Enter coefficient a (non-zero):  0\n",
      "Enter coefficient b:  0\n",
      "Enter coefficient c:  0\n"
     ]
    },
    {
     "name": "stdout",
     "output_type": "stream",
     "text": [
      "This is not a quadratic equation because a must be non-zero.\n"
     ]
    }
   ],
   "source": [
    "a = float(input(\"Enter coefficient a (non-zero): \"))\n",
    "b = float(input(\"Enter coefficient b: \"))\n",
    "c = float(input(\"Enter coefficient c: \"))\n",
    "\n",
    "if a == 0:\n",
    "    print(\"This is not a quadratic equation because a must be non-zero.\")\n",
    "else:\n",
    "    discriminant = b**2 - 4*a*c\n",
    "    print(f\"Discriminant (b^2 - 4ac): {discriminant}\")\n",
    "\n",
    "    if discriminant == 0:\n",
    "        root = -b / (2 * a)\n",
    "        print(\"The equation has two equal real roots:\")\n",
    "        print(f\"Root: {root}\")\n",
    "    elif discriminant > 0:\n",
    "        sqrt_discriminant = discriminant**0.5\n",
    "        root1 = (-b + sqrt_discriminant) / (2 * a)\n",
    "        root2 = (-b - sqrt_discriminant) / (2 * a)\n",
    "        print(\"The equation has two distinct real roots:\")\n",
    "        print(f\"Root 1: {root1}\")\n",
    "        print(f\"Root 2: {root2}\")\n",
    "    else:\n",
    "        sqrt_discriminant = (-discriminant)**0.5\n",
    "        real_part = -b / (2 * a)\n",
    "        imaginary_part = sqrt_discriminant / (2 * a)\n",
    "        print(\"The equation has two complex conjugate roots:\")\n",
    "        print(f\"Root 1: {real_part} + {imaginary_part}i\")\n",
    "        print(f\"Root 2: {real_part} - {imaginary_part}i\")"
   ]
  },
  {
   "cell_type": "code",
   "execution_count": 37,
   "id": "0e860aad-b28d-485e-a7ee-7608117e2035",
   "metadata": {},
   "outputs": [
    {
     "name": "stdin",
     "output_type": "stream",
     "text": [
      "Enter the first number:  77\n",
      "Enter the second number:  7\n",
      "Enter the third number:  7\n"
     ]
    },
    {
     "name": "stdout",
     "output_type": "stream",
     "text": [
      "your sorted number is [7.0, 7.0, 77.0]\n"
     ]
    }
   ],
   "source": [
    "num1 = float(input(\"Enter the first number: \"))\n",
    "num2 = float(input(\"Enter the second number: \"))\n",
    "num3 = float(input(\"Enter the third number: \"))\n",
    "\n",
    "numbers = [num1, num2, num3]\n",
    "numbers.sort()\n",
    "print(f\"your sorted number is {numbers}\")"
   ]
  },
  {
   "cell_type": "code",
   "execution_count": 39,
   "id": "acec0a6e-108f-426b-9b50-5041df102ef4",
   "metadata": {},
   "outputs": [
    {
     "name": "stdin",
     "output_type": "stream",
     "text": [
      "Enter the first integer:  4\n",
      "Enter the second integer:  5\n",
      "Enter the third integer:  6\n"
     ]
    },
    {
     "name": "stdout",
     "output_type": "stream",
     "text": [
      "The largest integer is: 6\n"
     ]
    }
   ],
   "source": [
    "num1 = int(input(\"Enter the first integer: \"))\n",
    "num2 = int(input(\"Enter the second integer: \"))\n",
    "num3 = int(input(\"Enter the third integer: \"))\n",
    "largest = max(num1, num2, num3)\n",
    "print(\"The largest integer is:\", largest)"
   ]
  },
  {
   "cell_type": "code",
   "execution_count": 43,
   "id": "94308323-cd46-428c-8434-559477112fcb",
   "metadata": {},
   "outputs": [
    {
     "name": "stdin",
     "output_type": "stream",
     "text": [
      "Enter a character:  g\n"
     ]
    },
    {
     "name": "stdout",
     "output_type": "stream",
     "text": [
      "The character 'g' is a consonant.\n"
     ]
    }
   ],
   "source": [
    "char = input(\"Enter a character: \").lower()\n",
    "if char in 'aeiou':\n",
    "    print(f\"The character '{char}' is a vowel.\")\n",
    "else:\n",
    "    print(f\"The character '{char}' is a consonant.\")"
   ]
  },
  {
   "cell_type": "code",
   "execution_count": 47,
   "id": "0951c020-6696-447a-b855-fec2fef8d831",
   "metadata": {},
   "outputs": [
    {
     "name": "stdin",
     "output_type": "stream",
     "text": [
      "Year:  120\n"
     ]
    },
    {
     "name": "stdout",
     "output_type": "stream",
     "text": [
      "120 is leap year\n"
     ]
    }
   ],
   "source": [
    "year = int(input(\"Year: \"))\n",
    "\n",
    "if (year % 4 == 0 and (year % 100 != 0 or year % 400 == 0)):\n",
    "    print(f\"{year} is leap year\")\n",
    "else:\n",
    "    print(f\"{year} is not Leap Year.\")"
   ]
  },
  {
   "cell_type": "code",
   "execution_count": 53,
   "id": "7c1263cf-0d5c-498f-8b4c-e85c11c6fd18",
   "metadata": {},
   "outputs": [
    {
     "name": "stdin",
     "output_type": "stream",
     "text": [
      "Enter number of calls:  2342\n"
     ]
    },
    {
     "name": "stdout",
     "output_type": "stream",
     "text": [
      "The total bill is Rs. 1111.80\n"
     ]
    }
   ],
   "source": [
    "calls = int(input(\"Enter number of calls: \"))\n",
    "bill = 200\n",
    "if calls > 100:\n",
    "    extra_calls = min(calls - 100, 50)\n",
    "    bill += extra_calls * 0.60\n",
    "\n",
    "if calls > 150:\n",
    "    extra_calls = min(calls - 150, 50)\n",
    "    bill += extra_calls * 0.50\n",
    "\n",
    "if calls > 200:\n",
    "    extra_calls = calls - 200\n",
    "    bill += extra_calls * 0.40\n",
    "\n",
    "print(f\"The total bill is Rs. {bill:.2f}\")\n"
   ]
  },
  {
   "cell_type": "code",
   "execution_count": null,
   "id": "cb9b75bd-7c9d-48f6-a11e-da47a7f9bd73",
   "metadata": {},
   "outputs": [],
   "source": []
  }
 ],
 "metadata": {
  "kernelspec": {
   "display_name": "Python 3 (ipykernel)",
   "language": "python",
   "name": "python3"
  },
  "language_info": {
   "codemirror_mode": {
    "name": "ipython",
    "version": 3
   },
   "file_extension": ".py",
   "mimetype": "text/x-python",
   "name": "python",
   "nbconvert_exporter": "python",
   "pygments_lexer": "ipython3",
   "version": "3.12.7"
  }
 },
 "nbformat": 4,
 "nbformat_minor": 5
}
