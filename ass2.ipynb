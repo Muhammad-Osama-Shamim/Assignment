{
 "cells": [
  {
   "cell_type": "markdown",
   "id": "572d43c1-0f8a-4cae-a710-eab6496357e8",
   "metadata": {},
   "source": [
    "# Area of a Rectangle"
   ]
  },
  {
   "cell_type": "code",
   "execution_count": 1,
   "id": "c2c03c2a-ebe7-460f-9cc2-7b8923626cf8",
   "metadata": {},
   "outputs": [
    {
     "name": "stdin",
     "output_type": "stream",
     "text": [
      "length 34\n",
      "width 3\n"
     ]
    },
    {
     "name": "stdout",
     "output_type": "stream",
     "text": [
      "Area is: 102.0\n"
     ]
    }
   ],
   "source": [
    "length = float(input(\"length\"))\n",
    "Width = float(input(\"width\"))\n",
    "Area = length*Width\n",
    "print(f\"Area is: {Area:}\")"
   ]
  },
  {
   "cell_type": "markdown",
   "id": "74eaa9c8-9dde-4f28-acfe-de21adcdb8f5",
   "metadata": {},
   "source": [
    "# Circumference of a Circle:"
   ]
  },
  {
   "cell_type": "code",
   "execution_count": 2,
   "id": "f135ef3e-dd81-4bfd-a020-6a838d349c14",
   "metadata": {},
   "outputs": [
    {
     "name": "stdin",
     "output_type": "stream",
     "text": [
      "radius 5\n"
     ]
    },
    {
     "name": "stdout",
     "output_type": "stream",
     "text": [
      "The circumfference is: 31.400000000000002\n"
     ]
    }
   ],
   "source": [
    "pi = 3.14\n",
    "r = float(input(\"radius\"))\n",
    "circumference = 2*pi*r\n",
    "print(f\"The circumfference is: {circumference:}\")"
   ]
  },
  {
   "cell_type": "markdown",
   "id": "7d22cb4b-bbdd-496c-b366-a53ff472798f",
   "metadata": {},
   "source": [
    "# Simple Interest:"
   ]
  },
  {
   "cell_type": "code",
   "execution_count": 3,
   "id": "ee39e229-c141-433f-8ef5-711651e7cf76",
   "metadata": {},
   "outputs": [
    {
     "name": "stdin",
     "output_type": "stream",
     "text": [
      "princ 4\n",
      "time 4\n",
      "rate 4\n"
     ]
    },
    {
     "name": "stdout",
     "output_type": "stream",
     "text": [
      "The simple interest is: 64.0\n"
     ]
    }
   ],
   "source": [
    "princ = float(input(\"princ\"))\n",
    "time = float(input(\"time\"))\n",
    "rate = float(input(\"rate\"))\n",
    "simple_interest = princ*time*rate\n",
    "print(f\"The simple interest is: {simple_interest:}\")"
   ]
  },
  {
   "cell_type": "markdown",
   "id": "f268cf1e-cc21-49c5-85f0-91a6692d7ae9",
   "metadata": {},
   "source": [
    "# Speed of an Object:"
   ]
  },
  {
   "cell_type": "code",
   "execution_count": 4,
   "id": "3c651b44-1116-4026-a793-b3c1f326629d",
   "metadata": {},
   "outputs": [
    {
     "name": "stdin",
     "output_type": "stream",
     "text": [
      "Enter the distance covered (in meters):  3\n",
      "Enter the time taken (in seconds):  2\n"
     ]
    },
    {
     "name": "stdout",
     "output_type": "stream",
     "text": [
      "The speed is: 1.5 m/s\n"
     ]
    }
   ],
   "source": [
    "distance = float(input(\"Enter the distance covered (in meters): \"))\n",
    "time = float(input(\"Enter the time taken (in seconds): \"))\n",
    "Speed = distance/time\n",
    "print(f\"The speed is: {Speed:} m/s\")\n"
   ]
  },
  {
   "cell_type": "markdown",
   "id": "37ef2177-9565-4d11-9d94-479ab30a9ecd",
   "metadata": {},
   "source": [
    "# BMI Calculator:"
   ]
  },
  {
   "cell_type": "code",
   "execution_count": 6,
   "id": "92ab6d83-552e-4575-9736-155fbb5d996b",
   "metadata": {},
   "outputs": [
    {
     "name": "stdin",
     "output_type": "stream",
     "text": [
      "weight in kg:  4\n",
      "height in meter:  6\n"
     ]
    },
    {
     "name": "stdout",
     "output_type": "stream",
     "text": [
      "The Bmi is: 0.25\n"
     ]
    }
   ],
   "source": [
    "weight_kg = float(input(\"weight in kg: \"))\n",
    "height_m = float(input(\"height in meter: \"))\n",
    "Bmi = weight_kg/(weight_kg**2)\n",
    "print(f\"The Bmi is: {Bmi:}\")"
   ]
  },
  {
   "cell_type": "markdown",
   "id": "c0f3beeb-ebf2-4e8a-8948-2823c790be3c",
   "metadata": {},
   "source": [
    "# Force Using Newton's Second Law:"
   ]
  },
  {
   "cell_type": "code",
   "execution_count": 7,
   "id": "e6f39f31-158f-430b-afed-024cbc2e76e8",
   "metadata": {},
   "outputs": [
    {
     "name": "stdin",
     "output_type": "stream",
     "text": [
      "mass in kg:  3\n",
      "acceleration in m/s²:  5\n"
     ]
    },
    {
     "name": "stdout",
     "output_type": "stream",
     "text": [
      "The force is: 15.0\n"
     ]
    }
   ],
   "source": [
    "mass_kg = float(input(\"mass in kg: \"))\n",
    "a = float(input(\"acceleration in m/s²: \"))\n",
    "f = mass_kg*a\n",
    "print(f\"The force is: {f:}\")"
   ]
  },
  {
   "cell_type": "markdown",
   "id": "c9e25b2e-e691-4585-9140-80b2ba71f023",
   "metadata": {},
   "source": [
    "# Compound Interest"
   ]
  },
  {
   "cell_type": "code",
   "execution_count": 8,
   "id": "a7323cb7-ca64-4cf1-b56b-15207390b8c3",
   "metadata": {},
   "outputs": [
    {
     "name": "stdin",
     "output_type": "stream",
     "text": [
      "P 2\n",
      "r 4\n",
      "n 6\n",
      "t 7\n"
     ]
    },
    {
     "name": "stdout",
     "output_type": "stream",
     "text": [
      "The compound interest is: 1.2000000000000002\n"
     ]
    }
   ],
   "source": [
    "p = float(input(\"P\"))\n",
    "r = float(input(\"r\"))\n",
    "n = float(input(\"n\"))\n",
    "t = float(input(\"t\"))\n",
    "A = p*(1+(r/n))**(n-t)\n",
    "print(f\"The compound interest is: {A:}\")"
   ]
  },
  {
   "cell_type": "markdown",
   "id": "194821fe-077f-42c0-9b88-fa2fd5bc933b",
   "metadata": {},
   "source": [
    "# Perimeter of a Triangle"
   ]
  },
  {
   "cell_type": "code",
   "execution_count": 9,
   "id": "0438b68f-f7c1-4f13-9995-cf3e01da8f73",
   "metadata": {},
   "outputs": [
    {
     "name": "stdin",
     "output_type": "stream",
     "text": [
      "a 23\n",
      "b 6\n",
      "c 8\n"
     ]
    },
    {
     "name": "stdout",
     "output_type": "stream",
     "text": [
      "The perimeter is: 37.0\n"
     ]
    }
   ],
   "source": [
    "a = float(input(\"a\"))\n",
    "b = float(input(\"b\"))\n",
    "c = float(input(\"c\"))\n",
    "perimeter = a+b+c\n",
    "print(f\"The perimeter is: {perimeter:}\")\n"
   ]
  },
  {
   "cell_type": "markdown",
   "id": "f2980071-feef-4491-bc21-14652cf5d1f9",
   "metadata": {},
   "source": [
    "# Volume of a Sphere"
   ]
  },
  {
   "cell_type": "code",
   "execution_count": 11,
   "id": "d5451e63-7a3e-4f85-998a-928f5b265f13",
   "metadata": {},
   "outputs": [
    {
     "name": "stdin",
     "output_type": "stream",
     "text": [
      "radius 3\n"
     ]
    },
    {
     "name": "stdout",
     "output_type": "stream",
     "text": [
      "The volume is: 113.112\n"
     ]
    }
   ],
   "source": [
    "radius = float(input(\"radius\"))\n",
    "Pi = 3.14\n",
    "volume = (4/3)*(3.142)*radius**3\n",
    "print(f\"The volume is: {volume:}\")"
   ]
  },
  {
   "cell_type": "markdown",
   "id": "d1d15bc4-c30e-4cce-8192-a72773cb8d07",
   "metadata": {},
   "source": [
    "# kinetic energy"
   ]
  },
  {
   "cell_type": "code",
   "execution_count": 12,
   "id": "0d2aa774-0e14-4e37-ad74-21b7ebb08199",
   "metadata": {},
   "outputs": [
    {
     "name": "stdin",
     "output_type": "stream",
     "text": [
      "mass in kg:  2\n",
      "velocity in meter/second:  6\n"
     ]
    },
    {
     "name": "stdout",
     "output_type": "stream",
     "text": [
      "The kinetic energy is: 36.0\n"
     ]
    }
   ],
   "source": [
    "m = int(float(input(\"mass in kg: \")))\n",
    "v = int(float(input(\"velocity in meter/second: \")))\n",
    "Kinetic_energy = 0.5* m * v **2\n",
    "print(f\"The kinetic energy is: {Kinetic_energy:}\")"
   ]
  },
  {
   "cell_type": "markdown",
   "id": "ec5fa2b0-c078-45d9-a2b1-139781e1e28f",
   "metadata": {},
   "source": [
    "# Quadratic Equation Roots"
   ]
  },
  {
   "cell_type": "code",
   "execution_count": 13,
   "id": "102d3ef8-20cd-45a5-9219-03e7a72b4c8e",
   "metadata": {},
   "outputs": [
    {
     "name": "stdin",
     "output_type": "stream",
     "text": [
      "a:  23\n",
      "b:  4\n",
      "c:  2\n"
     ]
    },
    {
     "name": "stdout",
     "output_type": "stream",
     "text": [
      "(-0.08695652173913042+0.2817713347133852j), (-0.08695652173913046-0.2817713347133852j)\n",
      "The root1 is: (-0.08695652173913042+0.2817713347133852j)\n",
      "the root2 is: (-0.08695652173913046-0.2817713347133852j)\n"
     ]
    }
   ],
   "source": [
    "a = float(input(\"a: \"))\n",
    "b = float(input(\"b: \"))\n",
    "c = float(input(\"c: \"))\n",
    "d = b**2 - 4*a*c\n",
    "root1 = (-b + (d)**0.5) / (2 * a)\n",
    "root2 = (-b - (d)**0.5) / (2 * a)\n",
    "print(root1, root2, sep=\", \")\n",
    "print(f\"The root1 is: {root1:}\\nthe root2 is: {root2}\")"
   ]
  },
  {
   "cell_type": "markdown",
   "id": "ae608fb5-a182-4a6b-bf69-451e2419332e",
   "metadata": {},
   "source": [
    "# Temperature Conversion"
   ]
  },
  {
   "cell_type": "code",
   "execution_count": 14,
   "id": "efd0dbf5-2738-4144-8f13-98c829f5ce11",
   "metadata": {},
   "outputs": [
    {
     "name": "stdin",
     "output_type": "stream",
     "text": [
      "C: 2\n"
     ]
    },
    {
     "name": "stdout",
     "output_type": "stream",
     "text": [
      "The temprature is: 35.6\n"
     ]
    }
   ],
   "source": [
    "C = float(input(\"C:\"))\n",
    "F = 9/5*C + 32\n",
    "print(f\"The temprature is: {F:}\")"
   ]
  },
  {
   "cell_type": "markdown",
   "id": "0a42f6dc-f061-4c41-8784-30727082b605",
   "metadata": {},
   "source": [
    "# Gravitational Force:"
   ]
  },
  {
   "cell_type": "code",
   "execution_count": 15,
   "id": "ee4e4aad-ee8e-4895-a614-60773cc751e0",
   "metadata": {},
   "outputs": [
    {
     "name": "stdin",
     "output_type": "stream",
     "text": [
      "Mass1: 23\n",
      "Mass2:  232\n",
      "radius:  22\n"
     ]
    },
    {
     "name": "stdout",
     "output_type": "stream",
     "text": [
      "The Gravitational force is: 1.5660719008264462e-09\n"
     ]
    }
   ],
   "source": [
    "m1 = float(input(\"Mass1:\"))\n",
    "m2 = float(input(\"Mass2: \"))\n",
    "r = float(input(\"radius: \"))\n",
    "G = 6.67*(10**-11)\n",
    "f = G*(m1+m2/r**2)\n",
    "print(f\"The Gravitational force is: {f:}\")\n"
   ]
  },
  {
   "cell_type": "markdown",
   "id": "bd8e9a94-84e2-4ce9-a8d9-474735d4ecc3",
   "metadata": {},
   "source": [
    "# Volume of a Cylinder:"
   ]
  },
  {
   "cell_type": "code",
   "execution_count": 16,
   "id": "ab1ba966-135e-4f5e-9177-7c9d510267e8",
   "metadata": {},
   "outputs": [
    {
     "name": "stdin",
     "output_type": "stream",
     "text": [
      "r: 23\n",
      "h: 322\n"
     ]
    },
    {
     "name": "stdout",
     "output_type": "stream",
     "text": [
      "The volume is: 533498.616\n"
     ]
    }
   ],
   "source": [
    "pi = 3.132\n",
    "r = float(input(\"r:\"))\n",
    "h =float(input(\"h:\"))\n",
    "volume = pi*(r**2)*h\n",
    "print(f\"The volume is: {volume:}\")"
   ]
  },
  {
   "cell_type": "markdown",
   "id": "a6e79cce-ea3b-4d98-823a-438381af3f5e",
   "metadata": {},
   "source": [
    "# Pressure"
   ]
  },
  {
   "cell_type": "code",
   "execution_count": 17,
   "id": "7ff2045f-e7cd-4bca-9d32-7d00faca8780",
   "metadata": {},
   "outputs": [
    {
     "name": "stdin",
     "output_type": "stream",
     "text": [
      "f: 3\n",
      "a: 43\n"
     ]
    },
    {
     "name": "stdout",
     "output_type": "stream",
     "text": [
      "Pressure is: 2.0\n"
     ]
    }
   ],
   "source": [
    "force = float(input(\"f:\"))\n",
    "area = float(input(\"a:\"))\n",
    "P = force/area\n",
    "print(f\"Pressure is: {p:}\")"
   ]
  },
  {
   "cell_type": "markdown",
   "id": "d4f55810-2e55-4e22-bcca-ae98c3f1202f",
   "metadata": {},
   "source": [
    "# electric_power"
   ]
  },
  {
   "cell_type": "code",
   "execution_count": 18,
   "id": "83f7946b-8e7d-44fa-891b-09e586469300",
   "metadata": {},
   "outputs": [
    {
     "name": "stdin",
     "output_type": "stream",
     "text": [
      "voltage: 23\n",
      "current: 23\n"
     ]
    },
    {
     "data": {
      "text/plain": [
       "' The electric_power is: 529.0'"
      ]
     },
     "execution_count": 18,
     "metadata": {},
     "output_type": "execute_result"
    }
   ],
   "source": [
    "voltage = float(input(\"voltage:\"))\n",
    "current = float(input(\"current:\"))\n",
    "electric_power = voltage*current\n",
    "(f\" The electric_power is: {electric_power :}\")\n"
   ]
  },
  {
   "cell_type": "markdown",
   "id": "51809ca9-fe02-44ef-a287-34b89a05f7be",
   "metadata": {},
   "source": [
    "# perimeter_of_circle"
   ]
  },
  {
   "cell_type": "code",
   "execution_count": 19,
   "id": "ed99731f-a102-4dd7-ab3a-c5ecaef9bdd8",
   "metadata": {},
   "outputs": [
    {
     "name": "stdin",
     "output_type": "stream",
     "text": [
      "r: 23\n"
     ]
    },
    {
     "name": "stdout",
     "output_type": "stream",
     "text": [
      "The perimeter_of_circle is: 144.53199999999998\n"
     ]
    }
   ],
   "source": [
    "r = float(input(\"r:\"))\n",
    "pi = 3.142\n",
    "perimeter_of_circle = 2*pi*r\n",
    "print(f\"The perimeter_of_circle is: {perimeter_of_circle:}\")"
   ]
  },
  {
   "cell_type": "markdown",
   "id": "4cc2d3a4-40fe-4b71-937e-c051a3ce7cfb",
   "metadata": {},
   "source": [
    "# Future Value in Savings"
   ]
  },
  {
   "cell_type": "code",
   "execution_count": 21,
   "id": "b39510f0-9cb5-4dae-aa1b-2aab59bfa3f6",
   "metadata": {},
   "outputs": [
    {
     "name": "stdin",
     "output_type": "stream",
     "text": [
      "Pv: 232\n",
      "r: 23\n",
      "t: 2\n"
     ]
    },
    {
     "name": "stdout",
     "output_type": "stream",
     "text": [
      "The future value of the investment is: 133632.0\n"
     ]
    }
   ],
   "source": [
    "pv = float(input(\"Pv:\"))\n",
    "r = float(input(\"r:\"))\n",
    "t = float(input(\"t:\"))\n",
    "FV = pv*(1+r)**t\n",
    "FV\n",
    "print(f\"The future value of the investment is: {FV:}\")"
   ]
  },
  {
   "cell_type": "markdown",
   "id": "056b0839-a942-43ef-917e-124e32352106",
   "metadata": {},
   "source": [
    "# Work Done by a Force"
   ]
  },
  {
   "cell_type": "code",
   "execution_count": 23,
   "id": "1ee072e6-56fc-46a9-9e2a-2c18bc2fadd5",
   "metadata": {},
   "outputs": [
    {
     "name": "stdin",
     "output_type": "stream",
     "text": [
      "Force (Newtons) :  2\n",
      "Distance (meters) :  2\n",
      "Angle (degrees) :  22\n"
     ]
    },
    {
     "name": "stdout",
     "output_type": "stream",
     "text": [
      "Force: 3.71 Joules.\n"
     ]
    }
   ],
   "source": [
    "import math\n",
    "\n",
    "def calculate_work(f, d, theta):\n",
    "    theta_radians = math.radians(theta)\n",
    "    work_done = f * d * math.cos(theta_radians)\n",
    "    return work_done\n",
    "\n",
    "f = float(input(\"Force (Newtons) : \"))\n",
    "d = float(input(\"Distance (meters) : \"))\n",
    "theta = float(input(\"Angle (degrees) : \"))\n",
    "\n",
    "work = calculate_work(f, d, theta)\n",
    "\n",
    "print(f\"Force: {work:.2f} Joules.\")"
   ]
  },
  {
   "cell_type": "code",
   "execution_count": 25,
   "id": "dfb528e1-3ca3-4132-9d2a-2c8e8037404d",
   "metadata": {},
   "outputs": [
    {
     "name": "stdin",
     "output_type": "stream",
     "text": [
      "Mass (kg):  2\n",
      "Specific heat capacity (J/kg°C):  2\n",
      "Initial temperature (°C) :  2\n",
      "Final temperature (°C):  44\n"
     ]
    },
    {
     "data": {
      "text/plain": [
       "168.0"
      ]
     },
     "execution_count": 25,
     "metadata": {},
     "output_type": "execute_result"
    }
   ],
   "source": [
    "m = float(input(\"Mass (kg): \"))\n",
    "c = float(input(\"Specific heat capacity (J/kg°C): \"))\n",
    "T_initial = float(input(\"Initial temperature (°C) : \"))\n",
    "T_final = float(input(\"Final temperature (°C): \"))\n",
    "\n",
    "delta_T = T_final - T_initial\n",
    "\n",
    "heat = m*c*(delta_T)\n",
    "heat\n"
   ]
  },
  {
   "cell_type": "code",
   "execution_count": null,
   "id": "45162433-969a-489b-b20a-226044043aa7",
   "metadata": {},
   "outputs": [],
   "source": []
  }
 ],
 "metadata": {
  "kernelspec": {
   "display_name": "Python 3 (ipykernel)",
   "language": "python",
   "name": "python3"
  },
  "language_info": {
   "codemirror_mode": {
    "name": "ipython",
    "version": 3
   },
   "file_extension": ".py",
   "mimetype": "text/x-python",
   "name": "python",
   "nbconvert_exporter": "python",
   "pygments_lexer": "ipython3",
   "version": "3.12.7"
  }
 },
 "nbformat": 4,
 "nbformat_minor": 5
}
