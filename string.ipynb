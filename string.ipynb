{
 "cells": [
  {
   "cell_type": "code",
   "execution_count": 7,
   "id": "fae648e3-1328-47d3-96de-03bbc0cf6af8",
   "metadata": {},
   "outputs": [
    {
     "name": "stdin",
     "output_type": "stream",
     "text": [
      "Enter a string:  wajahat\n"
     ]
    },
    {
     "name": "stdout",
     "output_type": "stream",
     "text": [
      "Number of vowels in the given string: 3\n"
     ]
    }
   ],
   "source": [
    "user_input = input(\"Enter a string: \")\n",
    "vowels = \"aeiouAEIOU\"\n",
    "vowel_count = 0\n",
    "for a in user_input:\n",
    "    if a in vowels:\n",
    "        vowel_count += 1\n",
    "print(f\"Number of vowels in the given string: {vowel_count}\")\n"
   ]
  },
  {
   "cell_type": "code",
   "execution_count": 9,
   "id": "66c03719-cd19-490b-812f-699ad1d3d14b",
   "metadata": {},
   "outputs": [
    {
     "name": "stdin",
     "output_type": "stream",
     "text": [
      "Enter a string:  wajahat age is 9\n"
     ]
    },
    {
     "name": "stdout",
     "output_type": "stream",
     "text": [
      "Uppercase letters: 0\n",
      "Lowercase letters: 12\n",
      "Digits: 1\n",
      "Whitespace characters: 3\n"
     ]
    }
   ],
   "source": [
    "user_input = input(\"Enter a string: \")\n",
    "uppercase_count = 0\n",
    "lowercase_count = 0\n",
    "digit_count = 0\n",
    "whitespace_count = 0\n",
    "\n",
    "for char in user_input:\n",
    "    if char.isupper():\n",
    "        uppercase_count += 1\n",
    "    elif char.islower():\n",
    "        lowercase_count += 1\n",
    "    elif char.isdigit():\n",
    "        digit_count += 1\n",
    "    elif char.isspace():\n",
    "        whitespace_count += 1\n",
    "\n",
    "print(f\"Uppercase letters: {uppercase_count}\")\n",
    "print(f\"Lowercase letters: {lowercase_count}\")\n",
    "print(f\"Digits: {digit_count}\")\n",
    "print(f\"Whitespace characters: {whitespace_count}\")\n"
   ]
  },
  {
   "cell_type": "code",
   "execution_count": 25,
   "id": "545109d8-5b30-4520-88ad-d809f81aeecd",
   "metadata": {},
   "outputs": [
    {
     "name": "stdin",
     "output_type": "stream",
     "text": [
      "Enter a string:  wajahat\n"
     ]
    },
    {
     "name": "stdout",
     "output_type": "stream",
     "text": [
      "New string after swapping first and last characters: tajahaw\n"
     ]
    }
   ],
   "source": [
    "user_input = input(\"Enter a string: \")  # Example: wajahat\n",
    "\n",
    "if len(user_input) > 1:\n",
    "    swapped_string = user_input[-1] + user_input[1:-1] + user_input[0]\n",
    "else:\n",
    "    swapped_string = user_input\n",
    "\n",
    "print(f\"New string after swapping first and last characters: {swapped_string}\")"
   ]
  },
  {
   "cell_type": "code",
   "execution_count": 13,
   "id": "f5a506ec-8b5c-4d62-838f-858ec81ec17e",
   "metadata": {},
   "outputs": [
    {
     "name": "stdin",
     "output_type": "stream",
     "text": [
      "Enter a string:  hello\n"
     ]
    },
    {
     "name": "stdout",
     "output_type": "stream",
     "text": [
      "Reversed string: olleh\n"
     ]
    }
   ],
   "source": [
    "user_input = input(\"Enter a string: \")\n",
    "reversed_string = user_input[::-1]\n",
    "print(f\"Reversed string: {reversed_string}\")"
   ]
  },
  {
   "cell_type": "code",
   "execution_count": 27,
   "id": "d83e0cea-52b0-46da-b1e5-fea54126747b",
   "metadata": {},
   "outputs": [
    {
     "name": "stdin",
     "output_type": "stream",
     "text": [
      "Enter a string:  wajahat\n"
     ]
    },
    {
     "name": "stdout",
     "output_type": "stream",
     "text": [
      "String after left shift: ajahatw\n"
     ]
    }
   ],
   "source": [
    "user_input = input(\"Enter a string: \")\n",
    "\n",
    "shifted_string = user_input[1:] + user_input[0]\n",
    "\n",
    "print(f\"String after left shift: {shifted_string}\")\n"
   ]
  },
  {
   "cell_type": "code",
   "execution_count": 31,
   "id": "a765f1c3-e5cd-4f53-8691-7f32607fcfb7",
   "metadata": {},
   "outputs": [
    {
     "name": "stdin",
     "output_type": "stream",
     "text": [
      "Enter your full name:  Wajahat\n"
     ]
    },
    {
     "name": "stdout",
     "output_type": "stream",
     "text": [
      "Initials: W.\n"
     ]
    }
   ],
   "source": [
    "user_name = input(\"Enter your full name: \")\n",
    "\n",
    "initials = \"\"\n",
    "for i in user_name:\n",
    "    if i.isupper():\n",
    "        initials += i + \". \"\n",
    "\n",
    "print(f\"Initials: {initials.strip()}\")"
   ]
  },
  {
   "cell_type": "code",
   "execution_count": 39,
   "id": "552a5469-1ad7-4627-bdec-1bcbdbfb66fb",
   "metadata": {},
   "outputs": [
    {
     "name": "stdin",
     "output_type": "stream",
     "text": [
      "Enter a string:  madam\n"
     ]
    },
    {
     "name": "stdout",
     "output_type": "stream",
     "text": [
      "The string is a palindrome.\n"
     ]
    }
   ],
   "source": [
    "user_input = input(\"Enter a string: \")\n",
    "\n",
    "is_palindrome = True\n",
    "for i in range(len(user_input) // 2):\n",
    "    if user_input[i] != user_input[len(user_input) - 1 - i]:\n",
    "        is_palindrome = False\n",
    "        break\n",
    "\n",
    "if is_palindrome:\n",
    "    print(\"The string is a palindrome.\")\n",
    "else:\n",
    "    print(\"The string is not a palindrome.\")"
   ]
  },
  {
   "cell_type": "code",
   "execution_count": 43,
   "id": "d4072ef0-7106-4ac6-9de8-6251bf8a6ab9",
   "metadata": {},
   "outputs": [
    {
     "name": "stdout",
     "output_type": "stream",
     "text": [
      "wajahat\n",
      "ajahatw\n",
      "jahatwa\n",
      "ahatwaj\n",
      "hatwaja\n",
      "atwajah\n",
      "twajaha\n"
     ]
    }
   ],
   "source": [
    "word = \"wajahat\"\n",
    "\n",
    "for i in range(len(word)):\n",
    "    print(word[i:] + word[:i])"
   ]
  },
  {
   "cell_type": "code",
   "execution_count": 55,
   "id": "6195f04f-c8e5-4f7f-ad89-6b3ec838eae5",
   "metadata": {},
   "outputs": [
    {
     "name": "stdin",
     "output_type": "stream",
     "text": [
      "Enter your password:  Wajahat1\n"
     ]
    },
    {
     "name": "stdout",
     "output_type": "stream",
     "text": [
      "Password is valid.\n"
     ]
    }
   ],
   "source": [
    "import re\n",
    "password = input(\"Enter your password: \")\n",
    "if len(password) >= 8 and \\\n",
    "   re.search(\"[A-Z]\", password) and \\\n",
    "   re.search(\"[a-z]\", password) and \\\n",
    "   re.search(\"[0-9]\", password):\n",
    "    print(\"Password is valid.\")\n",
    "else:\n",
    "    print(\"Password is invalid.\")\n"
   ]
  },
  {
   "cell_type": "code",
   "execution_count": null,
   "id": "fbe97211-9faa-4378-b078-1d75fdd43898",
   "metadata": {},
   "outputs": [],
   "source": []
  }
 ],
 "metadata": {
  "kernelspec": {
   "display_name": "Python 3 (ipykernel)",
   "language": "python",
   "name": "python3"
  },
  "language_info": {
   "codemirror_mode": {
    "name": "ipython",
    "version": 3
   },
   "file_extension": ".py",
   "mimetype": "text/x-python",
   "name": "python",
   "nbconvert_exporter": "python",
   "pygments_lexer": "ipython3",
   "version": "3.12.7"
  }
 },
 "nbformat": 4,
 "nbformat_minor": 5
}
